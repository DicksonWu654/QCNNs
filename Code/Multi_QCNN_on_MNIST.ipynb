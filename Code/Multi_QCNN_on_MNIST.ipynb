{
  "nbformat": 4,
  "nbformat_minor": 0,
  "metadata": {
    "colab": {
      "name": "Multi QCNN on MNIST.ipynb",
      "provenance": []
    },
    "kernelspec": {
      "name": "python3",
      "display_name": "Python 3"
    },
    "language_info": {
      "name": "python"
    }
  },
  "cells": [
    {
      "cell_type": "code",
      "metadata": {
        "id": "XaJFeflVtlku",
        "colab": {
          "base_uri": "https://localhost:8080/"
        },
        "outputId": "4b34d00f-e795-4f9b-b88c-34008e9f2719"
      },
      "source": [
        "!pip install tensorflow-quantum"
      ],
      "execution_count": 1,
      "outputs": [
        {
          "output_type": "stream",
          "text": [
            "Collecting tensorflow-quantum\n",
            "\u001b[?25l  Downloading https://files.pythonhosted.org/packages/53/02/878b2d4e7711f5c7f8dff9ff838e8ed84d218a359154ce06c7c01178a125/tensorflow_quantum-0.4.0-cp37-cp37m-manylinux2010_x86_64.whl (5.9MB)\n",
            "\u001b[K     |████████████████████████████████| 5.9MB 4.1MB/s \n",
            "\u001b[?25hCollecting sympy==1.5\n",
            "\u001b[?25l  Downloading https://files.pythonhosted.org/packages/4d/a7/25d5d6b3295537ab90bdbcd21e464633fb4a0684dd9a065da404487625bb/sympy-1.5-py2.py3-none-any.whl (5.6MB)\n",
            "\u001b[K     |████████████████████████████████| 5.6MB 34.8MB/s \n",
            "\u001b[?25hCollecting cirq==0.9.1\n",
            "\u001b[?25l  Downloading https://files.pythonhosted.org/packages/18/05/39c24828744b91f658fd1e5d105a9d168da43698cfaec006179c7646c71c/cirq-0.9.1-py3-none-any.whl (1.6MB)\n",
            "\u001b[K     |████████████████████████████████| 1.6MB 34.3MB/s \n",
            "\u001b[?25hRequirement already satisfied: mpmath>=0.19 in /usr/local/lib/python3.7/dist-packages (from sympy==1.5->tensorflow-quantum) (1.2.1)\n",
            "Requirement already satisfied: scipy in /usr/local/lib/python3.7/dist-packages (from cirq==0.9.1->tensorflow-quantum) (1.4.1)\n",
            "Requirement already satisfied: sortedcontainers~=2.0 in /usr/local/lib/python3.7/dist-packages (from cirq==0.9.1->tensorflow-quantum) (2.3.0)\n",
            "Requirement already satisfied: matplotlib~=3.0 in /usr/local/lib/python3.7/dist-packages (from cirq==0.9.1->tensorflow-quantum) (3.2.2)\n",
            "Requirement already satisfied: numpy~=1.16 in /usr/local/lib/python3.7/dist-packages (from cirq==0.9.1->tensorflow-quantum) (1.19.5)\n",
            "Requirement already satisfied: pandas in /usr/local/lib/python3.7/dist-packages (from cirq==0.9.1->tensorflow-quantum) (1.1.5)\n",
            "Collecting freezegun~=0.3.15\n",
            "  Downloading https://files.pythonhosted.org/packages/17/5d/1b9d6d3c7995fff473f35861d674e0113a5f0bd5a72fe0199c3f254665c7/freezegun-0.3.15-py2.py3-none-any.whl\n",
            "Requirement already satisfied: protobuf~=3.12.0 in /usr/local/lib/python3.7/dist-packages (from cirq==0.9.1->tensorflow-quantum) (3.12.4)\n",
            "Requirement already satisfied: requests~=2.18 in /usr/local/lib/python3.7/dist-packages (from cirq==0.9.1->tensorflow-quantum) (2.23.0)\n",
            "Requirement already satisfied: typing-extensions in /usr/local/lib/python3.7/dist-packages (from cirq==0.9.1->tensorflow-quantum) (3.7.4.3)\n",
            "Requirement already satisfied: google-api-core[grpc]<2.0.0dev,>=1.14.0 in /usr/local/lib/python3.7/dist-packages (from cirq==0.9.1->tensorflow-quantum) (1.26.1)\n",
            "Requirement already satisfied: networkx~=2.4 in /usr/local/lib/python3.7/dist-packages (from cirq==0.9.1->tensorflow-quantum) (2.5)\n",
            "Requirement already satisfied: cycler>=0.10 in /usr/local/lib/python3.7/dist-packages (from matplotlib~=3.0->cirq==0.9.1->tensorflow-quantum) (0.10.0)\n",
            "Requirement already satisfied: python-dateutil>=2.1 in /usr/local/lib/python3.7/dist-packages (from matplotlib~=3.0->cirq==0.9.1->tensorflow-quantum) (2.8.1)\n",
            "Requirement already satisfied: pyparsing!=2.0.4,!=2.1.2,!=2.1.6,>=2.0.1 in /usr/local/lib/python3.7/dist-packages (from matplotlib~=3.0->cirq==0.9.1->tensorflow-quantum) (2.4.7)\n",
            "Requirement already satisfied: kiwisolver>=1.0.1 in /usr/local/lib/python3.7/dist-packages (from matplotlib~=3.0->cirq==0.9.1->tensorflow-quantum) (1.3.1)\n",
            "Requirement already satisfied: pytz>=2017.2 in /usr/local/lib/python3.7/dist-packages (from pandas->cirq==0.9.1->tensorflow-quantum) (2018.9)\n",
            "Requirement already satisfied: six in /usr/local/lib/python3.7/dist-packages (from freezegun~=0.3.15->cirq==0.9.1->tensorflow-quantum) (1.15.0)\n",
            "Requirement already satisfied: setuptools in /usr/local/lib/python3.7/dist-packages (from protobuf~=3.12.0->cirq==0.9.1->tensorflow-quantum) (54.1.2)\n",
            "Requirement already satisfied: urllib3!=1.25.0,!=1.25.1,<1.26,>=1.21.1 in /usr/local/lib/python3.7/dist-packages (from requests~=2.18->cirq==0.9.1->tensorflow-quantum) (1.24.3)\n",
            "Requirement already satisfied: idna<3,>=2.5 in /usr/local/lib/python3.7/dist-packages (from requests~=2.18->cirq==0.9.1->tensorflow-quantum) (2.10)\n",
            "Requirement already satisfied: certifi>=2017.4.17 in /usr/local/lib/python3.7/dist-packages (from requests~=2.18->cirq==0.9.1->tensorflow-quantum) (2020.12.5)\n",
            "Requirement already satisfied: chardet<4,>=3.0.2 in /usr/local/lib/python3.7/dist-packages (from requests~=2.18->cirq==0.9.1->tensorflow-quantum) (3.0.4)\n",
            "Requirement already satisfied: google-auth<2.0dev,>=1.21.1 in /usr/local/lib/python3.7/dist-packages (from google-api-core[grpc]<2.0.0dev,>=1.14.0->cirq==0.9.1->tensorflow-quantum) (1.27.1)\n",
            "Requirement already satisfied: packaging>=14.3 in /usr/local/lib/python3.7/dist-packages (from google-api-core[grpc]<2.0.0dev,>=1.14.0->cirq==0.9.1->tensorflow-quantum) (20.9)\n",
            "Requirement already satisfied: googleapis-common-protos<2.0dev,>=1.6.0 in /usr/local/lib/python3.7/dist-packages (from google-api-core[grpc]<2.0.0dev,>=1.14.0->cirq==0.9.1->tensorflow-quantum) (1.53.0)\n",
            "Requirement already satisfied: grpcio<2.0dev,>=1.29.0; extra == \"grpc\" in /usr/local/lib/python3.7/dist-packages (from google-api-core[grpc]<2.0.0dev,>=1.14.0->cirq==0.9.1->tensorflow-quantum) (1.32.0)\n",
            "Requirement already satisfied: decorator>=4.3.0 in /usr/local/lib/python3.7/dist-packages (from networkx~=2.4->cirq==0.9.1->tensorflow-quantum) (4.4.2)\n",
            "Requirement already satisfied: cachetools<5.0,>=2.0.0 in /usr/local/lib/python3.7/dist-packages (from google-auth<2.0dev,>=1.21.1->google-api-core[grpc]<2.0.0dev,>=1.14.0->cirq==0.9.1->tensorflow-quantum) (4.2.1)\n",
            "Requirement already satisfied: pyasn1-modules>=0.2.1 in /usr/local/lib/python3.7/dist-packages (from google-auth<2.0dev,>=1.21.1->google-api-core[grpc]<2.0.0dev,>=1.14.0->cirq==0.9.1->tensorflow-quantum) (0.2.8)\n",
            "Requirement already satisfied: rsa<5,>=3.1.4; python_version >= \"3.6\" in /usr/local/lib/python3.7/dist-packages (from google-auth<2.0dev,>=1.21.1->google-api-core[grpc]<2.0.0dev,>=1.14.0->cirq==0.9.1->tensorflow-quantum) (4.7.2)\n",
            "Requirement already satisfied: pyasn1<0.5.0,>=0.4.6 in /usr/local/lib/python3.7/dist-packages (from pyasn1-modules>=0.2.1->google-auth<2.0dev,>=1.21.1->google-api-core[grpc]<2.0.0dev,>=1.14.0->cirq==0.9.1->tensorflow-quantum) (0.4.8)\n",
            "Installing collected packages: sympy, freezegun, cirq, tensorflow-quantum\n",
            "  Found existing installation: sympy 1.7.1\n",
            "    Uninstalling sympy-1.7.1:\n",
            "      Successfully uninstalled sympy-1.7.1\n",
            "Successfully installed cirq-0.9.1 freezegun-0.3.15 sympy-1.5 tensorflow-quantum-0.4.0\n"
          ],
          "name": "stdout"
        }
      ]
    },
    {
      "cell_type": "code",
      "metadata": {
        "id": "wBL9ihTI21JH",
        "colab": {
          "base_uri": "https://localhost:8080/",
          "height": 1000
        },
        "outputId": "413837c3-07af-42df-e8b0-aa6b32f3730c"
      },
      "source": [
        "!pip install -U tensorflow==2.3.0"
      ],
      "execution_count": 2,
      "outputs": [
        {
          "output_type": "stream",
          "text": [
            "Collecting tensorflow==2.3.0\n",
            "\u001b[?25l  Downloading https://files.pythonhosted.org/packages/16/89/f2d29c2eafc2eeafb17d5634340e06366af904d332341200a49d954bce85/tensorflow-2.3.0-cp37-cp37m-manylinux2010_x86_64.whl (320.4MB)\n",
            "\u001b[K     |████████████████████████████████| 320.4MB 28kB/s \n",
            "\u001b[?25hRequirement already satisfied, skipping upgrade: wheel>=0.26 in /usr/local/lib/python3.7/dist-packages (from tensorflow==2.3.0) (0.36.2)\n",
            "Requirement already satisfied, skipping upgrade: opt-einsum>=2.3.2 in /usr/local/lib/python3.7/dist-packages (from tensorflow==2.3.0) (3.3.0)\n",
            "Requirement already satisfied, skipping upgrade: astunparse==1.6.3 in /usr/local/lib/python3.7/dist-packages (from tensorflow==2.3.0) (1.6.3)\n",
            "Collecting tensorflow-estimator<2.4.0,>=2.3.0\n",
            "\u001b[?25l  Downloading https://files.pythonhosted.org/packages/e9/ed/5853ec0ae380cba4588eab1524e18ece1583b65f7ae0e97321f5ff9dfd60/tensorflow_estimator-2.3.0-py2.py3-none-any.whl (459kB)\n",
            "\u001b[K     |████████████████████████████████| 460kB 11.6MB/s \n",
            "\u001b[?25hRequirement already satisfied, skipping upgrade: wrapt>=1.11.1 in /usr/local/lib/python3.7/dist-packages (from tensorflow==2.3.0) (1.12.1)\n",
            "Requirement already satisfied, skipping upgrade: six>=1.12.0 in /usr/local/lib/python3.7/dist-packages (from tensorflow==2.3.0) (1.15.0)\n",
            "Requirement already satisfied, skipping upgrade: scipy==1.4.1 in /usr/local/lib/python3.7/dist-packages (from tensorflow==2.3.0) (1.4.1)\n",
            "Requirement already satisfied, skipping upgrade: grpcio>=1.8.6 in /usr/local/lib/python3.7/dist-packages (from tensorflow==2.3.0) (1.32.0)\n",
            "Requirement already satisfied, skipping upgrade: absl-py>=0.7.0 in /usr/local/lib/python3.7/dist-packages (from tensorflow==2.3.0) (0.10.0)\n",
            "Requirement already satisfied, skipping upgrade: keras-preprocessing<1.2,>=1.1.1 in /usr/local/lib/python3.7/dist-packages (from tensorflow==2.3.0) (1.1.2)\n",
            "Collecting numpy<1.19.0,>=1.16.0\n",
            "\u001b[?25l  Downloading https://files.pythonhosted.org/packages/d6/c6/58e517e8b1fb192725cfa23c01c2e60e4e6699314ee9684a1c5f5c9b27e1/numpy-1.18.5-cp37-cp37m-manylinux1_x86_64.whl (20.1MB)\n",
            "\u001b[K     |████████████████████████████████| 20.1MB 34.5MB/s \n",
            "\u001b[?25hRequirement already satisfied, skipping upgrade: protobuf>=3.9.2 in /usr/local/lib/python3.7/dist-packages (from tensorflow==2.3.0) (3.12.4)\n",
            "Requirement already satisfied, skipping upgrade: termcolor>=1.1.0 in /usr/local/lib/python3.7/dist-packages (from tensorflow==2.3.0) (1.1.0)\n",
            "Requirement already satisfied, skipping upgrade: h5py<2.11.0,>=2.10.0 in /usr/local/lib/python3.7/dist-packages (from tensorflow==2.3.0) (2.10.0)\n",
            "Requirement already satisfied, skipping upgrade: tensorboard<3,>=2.3.0 in /usr/local/lib/python3.7/dist-packages (from tensorflow==2.3.0) (2.4.1)\n",
            "Requirement already satisfied, skipping upgrade: google-pasta>=0.1.8 in /usr/local/lib/python3.7/dist-packages (from tensorflow==2.3.0) (0.2.0)\n",
            "Requirement already satisfied, skipping upgrade: gast==0.3.3 in /usr/local/lib/python3.7/dist-packages (from tensorflow==2.3.0) (0.3.3)\n",
            "Requirement already satisfied, skipping upgrade: setuptools in /usr/local/lib/python3.7/dist-packages (from protobuf>=3.9.2->tensorflow==2.3.0) (54.1.2)\n",
            "Requirement already satisfied, skipping upgrade: google-auth<2,>=1.6.3 in /usr/local/lib/python3.7/dist-packages (from tensorboard<3,>=2.3.0->tensorflow==2.3.0) (1.27.1)\n",
            "Requirement already satisfied, skipping upgrade: werkzeug>=0.11.15 in /usr/local/lib/python3.7/dist-packages (from tensorboard<3,>=2.3.0->tensorflow==2.3.0) (1.0.1)\n",
            "Requirement already satisfied, skipping upgrade: tensorboard-plugin-wit>=1.6.0 in /usr/local/lib/python3.7/dist-packages (from tensorboard<3,>=2.3.0->tensorflow==2.3.0) (1.8.0)\n",
            "Requirement already satisfied, skipping upgrade: markdown>=2.6.8 in /usr/local/lib/python3.7/dist-packages (from tensorboard<3,>=2.3.0->tensorflow==2.3.0) (3.3.4)\n",
            "Requirement already satisfied, skipping upgrade: requests<3,>=2.21.0 in /usr/local/lib/python3.7/dist-packages (from tensorboard<3,>=2.3.0->tensorflow==2.3.0) (2.23.0)\n",
            "Requirement already satisfied, skipping upgrade: google-auth-oauthlib<0.5,>=0.4.1 in /usr/local/lib/python3.7/dist-packages (from tensorboard<3,>=2.3.0->tensorflow==2.3.0) (0.4.3)\n",
            "Requirement already satisfied, skipping upgrade: rsa<5,>=3.1.4; python_version >= \"3.6\" in /usr/local/lib/python3.7/dist-packages (from google-auth<2,>=1.6.3->tensorboard<3,>=2.3.0->tensorflow==2.3.0) (4.7.2)\n",
            "Requirement already satisfied, skipping upgrade: cachetools<5.0,>=2.0.0 in /usr/local/lib/python3.7/dist-packages (from google-auth<2,>=1.6.3->tensorboard<3,>=2.3.0->tensorflow==2.3.0) (4.2.1)\n",
            "Requirement already satisfied, skipping upgrade: pyasn1-modules>=0.2.1 in /usr/local/lib/python3.7/dist-packages (from google-auth<2,>=1.6.3->tensorboard<3,>=2.3.0->tensorflow==2.3.0) (0.2.8)\n",
            "Requirement already satisfied, skipping upgrade: importlib-metadata; python_version < \"3.8\" in /usr/local/lib/python3.7/dist-packages (from markdown>=2.6.8->tensorboard<3,>=2.3.0->tensorflow==2.3.0) (3.7.2)\n",
            "Requirement already satisfied, skipping upgrade: urllib3!=1.25.0,!=1.25.1,<1.26,>=1.21.1 in /usr/local/lib/python3.7/dist-packages (from requests<3,>=2.21.0->tensorboard<3,>=2.3.0->tensorflow==2.3.0) (1.24.3)\n",
            "Requirement already satisfied, skipping upgrade: chardet<4,>=3.0.2 in /usr/local/lib/python3.7/dist-packages (from requests<3,>=2.21.0->tensorboard<3,>=2.3.0->tensorflow==2.3.0) (3.0.4)\n",
            "Requirement already satisfied, skipping upgrade: idna<3,>=2.5 in /usr/local/lib/python3.7/dist-packages (from requests<3,>=2.21.0->tensorboard<3,>=2.3.0->tensorflow==2.3.0) (2.10)\n",
            "Requirement already satisfied, skipping upgrade: certifi>=2017.4.17 in /usr/local/lib/python3.7/dist-packages (from requests<3,>=2.21.0->tensorboard<3,>=2.3.0->tensorflow==2.3.0) (2020.12.5)\n",
            "Requirement already satisfied, skipping upgrade: requests-oauthlib>=0.7.0 in /usr/local/lib/python3.7/dist-packages (from google-auth-oauthlib<0.5,>=0.4.1->tensorboard<3,>=2.3.0->tensorflow==2.3.0) (1.3.0)\n",
            "Requirement already satisfied, skipping upgrade: pyasn1>=0.1.3 in /usr/local/lib/python3.7/dist-packages (from rsa<5,>=3.1.4; python_version >= \"3.6\"->google-auth<2,>=1.6.3->tensorboard<3,>=2.3.0->tensorflow==2.3.0) (0.4.8)\n",
            "Requirement already satisfied, skipping upgrade: typing-extensions>=3.6.4; python_version < \"3.8\" in /usr/local/lib/python3.7/dist-packages (from importlib-metadata; python_version < \"3.8\"->markdown>=2.6.8->tensorboard<3,>=2.3.0->tensorflow==2.3.0) (3.7.4.3)\n",
            "Requirement already satisfied, skipping upgrade: zipp>=0.5 in /usr/local/lib/python3.7/dist-packages (from importlib-metadata; python_version < \"3.8\"->markdown>=2.6.8->tensorboard<3,>=2.3.0->tensorflow==2.3.0) (3.4.1)\n",
            "Requirement already satisfied, skipping upgrade: oauthlib>=3.0.0 in /usr/local/lib/python3.7/dist-packages (from requests-oauthlib>=0.7.0->google-auth-oauthlib<0.5,>=0.4.1->tensorboard<3,>=2.3.0->tensorflow==2.3.0) (3.1.0)\n",
            "\u001b[31mERROR: datascience 0.10.6 has requirement folium==0.2.1, but you'll have folium 0.8.3 which is incompatible.\u001b[0m\n",
            "\u001b[31mERROR: albumentations 0.1.12 has requirement imgaug<0.2.7,>=0.2.5, but you'll have imgaug 0.2.9 which is incompatible.\u001b[0m\n",
            "Installing collected packages: tensorflow-estimator, numpy, tensorflow\n",
            "  Found existing installation: tensorflow-estimator 2.4.0\n",
            "    Uninstalling tensorflow-estimator-2.4.0:\n",
            "      Successfully uninstalled tensorflow-estimator-2.4.0\n",
            "  Found existing installation: numpy 1.19.5\n",
            "    Uninstalling numpy-1.19.5:\n",
            "      Successfully uninstalled numpy-1.19.5\n",
            "  Found existing installation: tensorflow 2.4.1\n",
            "    Uninstalling tensorflow-2.4.1:\n",
            "      Successfully uninstalled tensorflow-2.4.1\n",
            "Successfully installed numpy-1.18.5 tensorflow-2.3.0 tensorflow-estimator-2.3.0\n"
          ],
          "name": "stdout"
        },
        {
          "output_type": "display_data",
          "data": {
            "application/vnd.colab-display-data+json": {
              "pip_warning": {
                "packages": [
                  "numpy"
                ]
              }
            }
          },
          "metadata": {
            "tags": []
          }
        }
      ]
    },
    {
      "cell_type": "code",
      "metadata": {
        "id": "egW4tvNktv1i"
      },
      "source": [
        "#Importing tensorflow\n",
        "import tensorflow as tf\n",
        "import tensorflow_quantum as tfq\n",
        "\n",
        "from tensorflow.keras import datasets, layers, models\n",
        "\n",
        "#Importing some tensorflow quantum stuff\n",
        "import cirq\n",
        "import sympy\n",
        "\n",
        "#For data manipulation\n",
        "import numpy as np\n",
        "\n",
        "import collections\n",
        "\n",
        "#to plot stuff\n",
        "import matplotlib.pyplot as plt"
      ],
      "execution_count": 14,
      "outputs": []
    },
    {
      "cell_type": "code",
      "metadata": {
        "id": "FTxsFSCZwIfB",
        "colab": {
          "base_uri": "https://localhost:8080/"
        },
        "outputId": "e73e45bb-a02c-4db9-c6e3-8d93e4921a82"
      },
      "source": [
        "#Get our MNIST Data and split it up (actualy this looks pretty simple compared to pytorch :thinking:)\n",
        "(x_train, y_train), (x_test, y_test) = tf.keras.datasets.mnist.load_data()\n",
        "\n",
        "#Models work better when you turn the range from 0 to 1.. Since the max is 255, we just divide by 225 to get a range of 0 to 1\n",
        "x_train, x_test = x_train[..., np.newaxis]/255.0, x_test[..., np.newaxis]/255.0"
      ],
      "execution_count": 4,
      "outputs": [
        {
          "output_type": "stream",
          "text": [
            "Downloading data from https://storage.googleapis.com/tensorflow/tf-keras-datasets/mnist.npz\n",
            "11493376/11490434 [==============================] - 0s 0us/step\n"
          ],
          "name": "stdout"
        }
      ]
    },
    {
      "cell_type": "code",
      "metadata": {
        "colab": {
          "base_uri": "https://localhost:8080/"
        },
        "id": "WxHEJnlNwmd0",
        "outputId": "959e93cd-4c77-4500-a2af-34e459cfaa3a"
      },
      "source": [
        "#Very interesting... It's litterally a giant array\n",
        "x_train.shape, x_train[0].shape, x_train[0][0][0]"
      ],
      "execution_count": 5,
      "outputs": [
        {
          "output_type": "execute_result",
          "data": {
            "text/plain": [
              "((60000, 28, 28, 1), (28, 28, 1), array([0.]))"
            ]
          },
          "metadata": {
            "tags": []
          },
          "execution_count": 5
        }
      ]
    },
    {
      "cell_type": "code",
      "metadata": {
        "id": "MFGkF61Aw1xf"
      },
      "source": [
        "#We take our data (which is litterally just floats in a giant array, and turn it into Tensors/tensorflow floats)\n",
        "x_train = tf.cast(x_train, tf.float32)\n",
        "x_test = tf.cast(x_test, tf.float32)"
      ],
      "execution_count": 6,
      "outputs": []
    },
    {
      "cell_type": "code",
      "metadata": {
        "colab": {
          "base_uri": "https://localhost:8080/"
        },
        "id": "VAdJbMjvxe-C",
        "outputId": "f3e960a2-3b9f-4daf-c936-e04943830257"
      },
      "source": [
        "#Yup, worked!\n",
        "x_train.shape, x_train[0].shape, x_train[0][0][0]"
      ],
      "execution_count": 7,
      "outputs": [
        {
          "output_type": "execute_result",
          "data": {
            "text/plain": [
              "(TensorShape([60000, 28, 28, 1]),\n",
              " TensorShape([28, 28, 1]),\n",
              " <tf.Tensor: shape=(1,), dtype=float32, numpy=array([0.], dtype=float32)>)"
            ]
          },
          "metadata": {
            "tags": []
          },
          "execution_count": 7
        }
      ]
    },
    {
      "cell_type": "code",
      "metadata": {
        "id": "oZE83WrPxgWG"
      },
      "source": [
        "#When we pass our thing through our quantum network, we're going to downsclae it to a 10x10 image.. (speed reasons)... But I'll try out a bigger image later\n",
        "#Also very interesting how TF does it....\n",
        "x_train = tf.image.resize(x_train[:], (10,10)).numpy()\n",
        "x_test = tf.image.resize(x_test[:], (10,10)).numpy()"
      ],
      "execution_count": 8,
      "outputs": []
    },
    {
      "cell_type": "code",
      "metadata": {
        "colab": {
          "base_uri": "https://localhost:8080/"
        },
        "id": "jypfDKq7yXZu",
        "outputId": "40c83571-633d-4d1d-c0d2-4ab3a92a461a"
      },
      "source": [
        "#Yup, worked!\n",
        "x_train.shape, x_train[0].shape, x_train[0][0][0]"
      ],
      "execution_count": 9,
      "outputs": [
        {
          "output_type": "execute_result",
          "data": {
            "text/plain": [
              "((60000, 10, 10, 1), (10, 10, 1), array([0.], dtype=float32))"
            ]
          },
          "metadata": {
            "tags": []
          },
          "execution_count": 9
        }
      ]
    },
    {
      "cell_type": "code",
      "metadata": {
        "id": "QnyaqHY-yYgL"
      },
      "source": [
        "# y_train, y_train.shape"
      ],
      "execution_count": 10,
      "outputs": []
    },
    {
      "cell_type": "code",
      "metadata": {
        "id": "_kmf1KKbyfVr"
      },
      "source": [
        "# #reformating the label data\n",
        "# y_train = y_train[:]\n",
        "# y_test = y_test[:]"
      ],
      "execution_count": 11,
      "outputs": []
    },
    {
      "cell_type": "code",
      "metadata": {
        "id": "c987t-rvyg40"
      },
      "source": [
        "# y_train, y_train.shape"
      ],
      "execution_count": 12,
      "outputs": []
    },
    {
      "cell_type": "code",
      "metadata": {
        "colab": {
          "base_uri": "https://localhost:8080/",
          "height": 299
        },
        "id": "YgD5ozlqyh2E",
        "outputId": "d187012b-14c6-4366-82e1-284d47397bbd"
      },
      "source": [
        "#Alright just present it to make sure it's structured correctly\n",
        "print(y_train[42])\n",
        "\n",
        "fig = plt.figure()\n",
        "plt.imshow(x_train[42, :, :, 0], cmap = 'gray_r')"
      ],
      "execution_count": 15,
      "outputs": [
        {
          "output_type": "stream",
          "text": [
            "7\n"
          ],
          "name": "stdout"
        },
        {
          "output_type": "execute_result",
          "data": {
            "text/plain": [
              "<matplotlib.image.AxesImage at 0x7f47c3c40190>"
            ]
          },
          "metadata": {
            "tags": []
          },
          "execution_count": 15
        },
        {
          "output_type": "display_data",
          "data": {
            "image/png": "[encoded data removed]",
            "text/plain": [
              "<Figure size 432x288 with 1 Axes>"
            ]
          },
          "metadata": {
            "tags": [],
            "needs_background": "light"
          }
        }
      ]
    },
    {
      "cell_type": "code",
      "metadata": {
        "id": "uyeYoraizPUd"
      },
      "source": [
        "#Lol that's an ugly 7. For curiosity's sake, I'm going to bump it up to say... 15x15"
      ],
      "execution_count": 16,
      "outputs": []
    },
    {
      "cell_type": "code",
      "metadata": {
        "colab": {
          "base_uri": "https://localhost:8080/",
          "height": 299
        },
        "id": "NgjVh5WszS0D",
        "outputId": "625dc940-3e54-44f9-b244-24be552ecd12"
      },
      "source": [
        "(x_train_new, y_train_new), (x_test_new, y_test_new) = tf.keras.datasets.mnist.load_data()\n",
        "x_train_new, x_test_new = x_train_new[..., np.newaxis]/255.0, x_test_new[..., np.newaxis]/255.0\n",
        "x_train_new = tf.cast(x_train_new, tf.float32)\n",
        "x_test_new = tf.cast(x_test_new, tf.float32)\n",
        "print(y_train_new[42])\n",
        "\n",
        "fig = plt.figure()\n",
        "plt.imshow(x_train_new[42, :, :, 0], cmap = 'gray_r')"
      ],
      "execution_count": 17,
      "outputs": [
        {
          "output_type": "stream",
          "text": [
            "7\n"
          ],
          "name": "stdout"
        },
        {
          "output_type": "execute_result",
          "data": {
            "text/plain": [
              "<matplotlib.image.AxesImage at 0x7f47c3717350>"
            ]
          },
          "metadata": {
            "tags": []
          },
          "execution_count": 17
        },
        {
          "output_type": "display_data",
          "data": {
            "image/png": "[encoded data removed]",
            "text/plain": [
              "<Figure size 432x288 with 1 Axes>"
            ]
          },
          "metadata": {
            "tags": [],
            "needs_background": "light"
          }
        }
      ]
    },
    {
      "cell_type": "code",
      "metadata": {
        "id": "mqV8aUkEzu0X"
      },
      "source": [
        "#yeah this is much much clearer"
      ],
      "execution_count": 18,
      "outputs": []
    },
    {
      "cell_type": "code",
      "metadata": {
        "id": "rV5aT0GLz1bI"
      },
      "source": [
        "#Defining the whole thing!!!\n",
        "class QConv(tf.keras.layers.Layer):\n",
        "  #initializaiton of the QCNN layer\n",
        "  def __init__(self, filter_size, depth, activation = None, name = None, kernel_regularizer=None, **kwangs):\n",
        "    #Standard notation thingy\n",
        "    super(QConv, self).__init__(name=name, **kwangs)\n",
        "\n",
        "    #Defining of the varaibles\n",
        "    self.filter_size = filter_size\n",
        "    self.depth = depth\n",
        "    self.learning_params = []\n",
        "    self.QCNN_layer_gen()\n",
        "    self.activation = tf.keras.layers.Activation(activation)\n",
        "    self.kernel_regularizer = kernel_regularizer\n",
        "  \n",
        "  #Initialize parameters for the quantum gates\n",
        "  def _get_new_param(self):\n",
        "    #Literally just generates a string \"p0\"... Instead of 0 it's just a number that\n",
        "    new_param = sympy.symbols('p'+str(len(self.learning_params)))\n",
        "    #Increase the size of the list (thus the numbers keep increasing (so there's no duplicates))\n",
        "    self.learning_params.append(new_param)\n",
        "    return new_param\n",
        "  \n",
        "  #This just defines 2 parameterized qubit gates and places them\n",
        "  def _QConv(self, step, target, qubits):\n",
        "    #First defining a Z and an X gate. First part = the rotation value (where we place our parameter), second part = where we place our gates\n",
        "    yield cirq.CZPowGate(exponent=self._get_new_param())(qubits[target], qubits[target+step])\n",
        "    yield cirq.CXPowGate(exponent=self._get_new_param())(qubits[target], qubits[target+step])\n",
        "  \n",
        "  def QCNN_layer_gen(self):\n",
        "    #Pixels = the area which the filter will cover\n",
        "    pixels = self.filter_size**2\n",
        "\n",
        "    #So we're going to take our kernal and map it to qubits\n",
        "    cirq_qubits = cirq.GridQubit.rect(self.filter_size, self.filter_size)\n",
        "\n",
        "    #How you define the start of a quantum circuit\n",
        "    input_circuit = cirq.Circuit()\n",
        "\n",
        "    #There's another set of parameterized gates here. And we've got to define it's parameters\n",
        "    input_params = [sympy.symbols('a%d' %i) for i in range(pixels)]\n",
        "\n",
        "    #Now we apply those initial RX gates at the beginning for each qubit\n",
        "    for i, qubit in enumerate(cirq_qubits):\n",
        "      input_circuit.append(cirq.rx(np.pi*input_params[i])(qubit))\n",
        "    \n",
        "    #We're going to start antoher part, this time it's the kernal part\n",
        "    QCNN_circuit = cirq.Circuit()\n",
        "\n",
        "    #Basically something to help with the architechture of the kernal part (to help with the placement of the X and Z gates)\n",
        "    step_size = [2**i for i in range(np.log2(pixels).astype(np.int32))]\n",
        "    \n",
        "    #This is the appending of said X and Z gates\n",
        "    for step in step_size:\n",
        "      for target in range(0, pixels, 2*step):\n",
        "        QCNN_circuit.append(self._QConv(step,target,cirq_qubits))\n",
        "    \n",
        "    #now take the 2 parts of the quantum circuit to merge them all together\n",
        "    full_circuit = cirq.Circuit()\n",
        "    full_circuit.append(input_circuit)\n",
        "    full_circuit.append(QCNN_circuit)\n",
        "\n",
        "    #save it to use it later\n",
        "    self.circuit = full_circuit\n",
        "\n",
        "    #Save the parameters to use later\n",
        "    self.params = input_params + self.learning_params\n",
        "\n",
        "    #Save the operators (for the output) for later use\n",
        "    self.op = cirq.Z(cirq_qubits[0])\n",
        "  \n",
        "  #Intializes everything... It creates the layer (with weights and stuff)\n",
        "  def build(self, input_shape):\n",
        "    #What's the input (image) width? Height? Number of channels?\n",
        "    self.width = input_shape[1]\n",
        "    self.height = input_shape[2]\n",
        "    self.channel = input_shape[3]\n",
        "\n",
        "    # The number of times which the kernal will pass on the image\n",
        "    self.num_x = self.width - self.filter_size + 1\n",
        "    self.num_y = self.height - self.filter_size + 1\n",
        "\n",
        "    #Initializing the kernal! name, (how many (if there are 8, then it'll be a rectangular prism, but ostensibly 8 different kernals), channels, number of parameters each)\n",
        "    #Then we initialzie the parameters, plus slap on a regularator if we wanted to\n",
        "    self.kernel = self.add_weight(name = 'kernal',\n",
        "                                 shape = [self.depth, self.channel, len(self.learning_params)],\n",
        "                                 initializer = tf.keras.initializers.glorot_normal(),\n",
        "                                 regularizer = self.kernel_regularizer)\n",
        "    \n",
        "    #We take our thing and convert it to a (quantum?) tensor\n",
        "    self.circuit_tensor = tfq.convert_to_tensor([self.circuit] * self.num_x * self.num_y * self.channel)\n",
        "  \n",
        "  #Where the computation happens\n",
        "  def call(self, inputs):\n",
        "    #This is generating a giant stack of all the segements of the inputs which we're going to pass over the kernal\n",
        "    #Also: It's just adding the slice to the whole stack each time. (It works like. Which cord on the map, then take a bit out of that with the size) \n",
        "    stack_set = None\n",
        "    for i in range(self.num_x):\n",
        "      for j in range(self.num_y):\n",
        "        slice_part = tf.slice(inputs, [0, i, j, 0], [-1, self.filter_size, self.filter_size, -1])\n",
        "        slice_part = tf.reshape(slice_part, shape=[-1, 1, self.filter_size, self.filter_size, self.channel])\n",
        "        if stack_set == None:\n",
        "          stack_set = slice_part\n",
        "        else:\n",
        "          stack_set = tf.concat([stack_set, slice_part], 1)\n",
        "    #Then we just reformat it\n",
        "    stack_set = tf.transpose(stack_set, perm=[0, 1, 4, 2, 3])\n",
        "    stack_set = tf.reshape(stack_set, shape=[-1, self.filter_size**2])\n",
        "\n",
        "    #Kind of reformats (except with some duplication) the (quantum?) tensor into a usable form\n",
        "    circuit_inputs = tf.tile([self.circuit_tensor], [tf.shape(inputs)[0], 1])\n",
        "    circuit_inputs = tf.reshape(circuit_inputs, shape=[-1])\n",
        "    tf.fill([tf.shape(inputs)[0]*self.num_x*self.num_y, 1], 1)\n",
        "    \n",
        "    #Gonna take our inputs (now in the form of the stack) and pass them through our kernals\n",
        "    outputs = []\n",
        "    for i in range(self.depth):\n",
        "      #Now we call the kernals we defined in build\n",
        "      controller = tf.tile(self.kernel[i], [tf.shape(inputs)[0]*self.num_x*self.num_y, 1])\n",
        "      #Actually passing into the QCNN layer\n",
        "      outputs.append(self.single_depth_QCNN(stack_set, controller, circuit_inputs))\n",
        "    #reformating\n",
        "    output_tensor = tf.stack(outputs, axis=3)\n",
        "    output_tensor = tf.math.acos(tf.clip_by_value(output_tensor, -1+1e-5, 1-1e-5)) / np.pi\n",
        "    \n",
        "    #Take our output, shove it through the activation, and then return it\n",
        "    return self.activation(output_tensor)\n",
        "  \n",
        "  def single_depth_QCNN(self, input_data, controller, circuit_inputs):\n",
        "    #Reformat the input data\n",
        "    input_data = tf.concat([input_data, controller],1)\n",
        "    #Then taking our input and shoving it through the QCNN (along with it's paramters)\n",
        "    QCNN_output = tfq.layers.Expectation()(circuit_inputs,\n",
        "                                           symbol_names = self.params,\n",
        "                                           symbol_values = input_data,\n",
        "                                           operators = self.op)\n",
        "    #Reformat x 2\n",
        "    QCNN_output = tf.reshape(QCNN_output, shape=[-1, self.num_x, self.num_y, self.channel])\n",
        "    return tf.math.reduce_sum(QCNN_output, 3)"
      ],
      "execution_count": 19,
      "outputs": []
    },
    {
      "cell_type": "code",
      "metadata": {
        "id": "v8VmEbVtJ1Ql"
      },
      "source": [
        "#Defining the varaibles to intitalize the QCNN\n",
        "width = np.shape(x_train)[1]\n",
        "height = np.shape(x_train)[2]"
      ],
      "execution_count": 38,
      "outputs": []
    },
    {
      "cell_type": "code",
      "metadata": {
        "id": "CGb-xuvZQALQ"
      },
      "source": [
        "#Initializing the model\n",
        "qcnn_model = models.Sequential()\n",
        "#The QCNN!!!!!\n",
        "qcnn_model.add(QConv(filter_size=2, depth=4, activation='relu', \n",
        "                     name='qconv1', input_shape=(width, height, 1)))\n",
        "qcnn_model.add(QConv(filter_size=2, depth=8, activation='relu', \n",
        "                     name='qconv2', input_shape=(width-1, height-1, 1)))\n",
        "#So we can pase it to linear layers\n",
        "qcnn_model.add(layers.Flatten())\n",
        "qcnn_model.add(layers.Dense(32, activation='relu'))\n",
        "#Important to have a softmax here... So all the probabilities add up to 100%\n",
        "qcnn_model.add(layers.Dense(10, activation='softmax'))"
      ],
      "execution_count": 48,
      "outputs": []
    },
    {
      "cell_type": "code",
      "metadata": {
        "colab": {
          "base_uri": "https://localhost:8080/"
        },
        "id": "HZh_XMpwSK4u",
        "outputId": "a43cde81-ff2c-4717-dc51-e471d0b30fdc"
      },
      "source": [
        "qcnn_model.summary()"
      ],
      "execution_count": 49,
      "outputs": [
        {
          "output_type": "stream",
          "text": [
            "Model: \"sequential_8\"\n",
            "_________________________________________________________________\n",
            "Layer (type)                 Output Shape              Param #   \n",
            "=================================================================\n",
            "qconv1 (QConv)               (None, 9, 9, 4)           24        \n",
            "_________________________________________________________________\n",
            "qconv2 (QConv)               (None, 8, 8, 8)           192       \n",
            "_________________________________________________________________\n",
            "flatten_7 (Flatten)          (None, 512)               0         \n",
            "_________________________________________________________________\n",
            "dense_14 (Dense)             (None, 32)                16416     \n",
            "_________________________________________________________________\n",
            "dense_15 (Dense)             (None, 10)                330       \n",
            "=================================================================\n",
            "Total params: 16,962\n",
            "Trainable params: 16,962\n",
            "Non-trainable params: 0\n",
            "_________________________________________________________________\n"
          ],
          "name": "stdout"
        }
      ]
    },
    {
      "cell_type": "code",
      "metadata": {
        "id": "6NeItZohSR1Y"
      },
      "source": [
        "# #This is to just to draw it out\n",
        "# SVGCircuit(QConv(filter_size=2, depth=8, activation='relu').circuit)"
      ],
      "execution_count": 50,
      "outputs": []
    },
    {
      "cell_type": "code",
      "metadata": {
        "id": "lgHTOYhwSYKv"
      },
      "source": [
        "#Getting ready to train (optimizer, loss, metrics)\n",
        "qcnn_model.compile(optimizer=tf.keras.optimizers.Adam(),\n",
        "              loss='sparse_categorical_crossentropy',\n",
        "              metrics=['accuracy'])"
      ],
      "execution_count": 51,
      "outputs": []
    },
    {
      "cell_type": "code",
      "metadata": {
        "colab": {
          "base_uri": "https://localhost:8080/"
        },
        "id": "rQa5xLLDSiOm",
        "outputId": "cdbaebc7-d9ef-40c5-f007-2cc81977d3bd"
      },
      "source": [
        "#Train it!!! (Taking out validation accuracy during training because takes too long)\n",
        "qcnn_history = qcnn_model.fit(x_train, y_train, steps_per_epoch=500,\n",
        "                        epochs=5, batch_size=5)"
      ],
      "execution_count": 52,
      "outputs": [
        {
          "output_type": "stream",
          "text": [
            "Epoch 1/5\n",
            "500/500 [==============================] - 935s 2s/step - loss: 1.1251 - accuracy: 0.6536\n",
            "Epoch 2/5\n",
            "500/500 [==============================] - 921s 2s/step - loss: 0.6943 - accuracy: 0.7872\n",
            "Epoch 3/5\n",
            "500/500 [==============================] - 932s 2s/step - loss: 0.6223 - accuracy: 0.7980\n",
            "Epoch 4/5\n",
            "500/500 [==============================] - 932s 2s/step - loss: 0.6016 - accuracy: 0.8156\n",
            "Epoch 5/5\n",
            "500/500 [==============================] - 938s 2s/step - loss: 0.5750 - accuracy: 0.8112\n"
          ],
          "name": "stdout"
        }
      ]
    },
    {
      "cell_type": "code",
      "metadata": {
        "colab": {
          "base_uri": "https://localhost:8080/"
        },
        "id": "4NO-Vj9ZSp1o",
        "outputId": "bfed472f-e996-4186-ea87-d78b42ee94e1"
      },
      "source": [
        "#Outputing validation accuracy:\n",
        "test_loss, test_acc = qcnn_model.evaluate(x_test, y_test, verbose=2)"
      ],
      "execution_count": 54,
      "outputs": [
        {
          "output_type": "stream",
          "text": [
            "313/313 - 1500s - loss: 0.5507 - accuracy: 0.8252\n"
          ],
          "name": "stdout"
        }
      ]
    },
    {
      "cell_type": "code",
      "metadata": {
        "colab": {
          "base_uri": "https://localhost:8080/",
          "height": 282
        },
        "id": "L3j3pK-NStro",
        "outputId": "60213fdd-4f16-43c0-8a3a-e7a3d3e0470e"
      },
      "source": [
        "#Plot loss curves:\n",
        "fig = plt.figure()\n",
        "plt.plot(np.arange(len(qcnn_history.history['loss'])) + 1, qcnn_history.history['loss'])"
      ],
      "execution_count": 55,
      "outputs": [
        {
          "output_type": "execute_result",
          "data": {
            "text/plain": [
              "[<matplotlib.lines.Line2D at 0x7f47bd1df950>]"
            ]
          },
          "metadata": {
            "tags": []
          },
          "execution_count": 55
        },
        {
          "output_type": "display_data",
          "data": {
            "image/png": "[encoded data removed]",
            "text/plain": [
              "<Figure size 432x288 with 1 Axes>"
            ]
          },
          "metadata": {
            "tags": [],
            "needs_background": "light"
          }
        }
      ]
    },
    {
      "cell_type": "code",
      "metadata": {
        "colab": {
          "base_uri": "https://localhost:8080/",
          "height": 282
        },
        "id": "Ss_EHH8lTcT_",
        "outputId": "c2e11ece-b23f-451f-e265-eeabf2f694ca"
      },
      "source": [
        "#Plot acc  curves:\n",
        "fig = plt.figure()\n",
        "plt.plot(np.arange(len(qcnn_history.history['accuracy'])) + 1, qcnn_history.history['accuracy'])"
      ],
      "execution_count": 56,
      "outputs": [
        {
          "output_type": "execute_result",
          "data": {
            "text/plain": [
              "[<matplotlib.lines.Line2D at 0x7f47bc6a51d0>]"
            ]
          },
          "metadata": {
            "tags": []
          },
          "execution_count": 56
        },
        {
          "output_type": "display_data",
          "data": {
            "image/png": "[encoded data removed]",
            "text/plain": [
              "<Figure size 432x288 with 1 Axes>"
            ]
          },
          "metadata": {
            "tags": [],
            "needs_background": "light"
          }
        }
      ]
    },
    {
      "cell_type": "code",
      "metadata": {
        "id": "zyLCxdrCaDjI"
      },
      "source": [
        "#Okay I played around with the size and it seems like the bigger your input size is, the longer it takes (like 1 eoch was going to talk 1 hour)... Accuracy was still going up so it was working\n",
        "#I'm just going to attach an additional quanvolutional layer to it and see what it does hahaha\n",
        "#Seems like more filters the worst off it becomes too... "
      ],
      "execution_count": null,
      "outputs": []
    }
  ]
}